{
 "cells": [
  {
   "cell_type": "code",
   "execution_count": 8,
   "id": "0ce46eb5",
   "metadata": {},
   "outputs": [],
   "source": [
    "class Node:\n",
    "    def __init__(self, key):\n",
    "        self.data = key\n",
    "        self.left = None\n",
    "        self.right = None\n",
    "    \n",
    "                "
   ]
  },
  {
   "cell_type": "code",
   "execution_count": 9,
   "id": "12327ad1",
   "metadata": {},
   "outputs": [],
   "source": [
    "    \n",
    "def printLevelOrder(root):\n",
    "    h = height(root)\n",
    "    for i in range(1, h+1):\n",
    "        printCurrentLevel(root, i)\n",
    "    \n",
    "    \n",
    "def printCurrentLevel(root, level):\n",
    "    if root is None:\n",
    "        return\n",
    "    if level == 1:\n",
    "        print(root.data, end=\"\")\n",
    "    elif level > 1:\n",
    "        printCurrentLevel(root.left, level-1)\n",
    "        printCurrentLevel(root.right, level-1)\n",
    "    \n",
    "    \n",
    "def height(node):\n",
    "    if node is None:\n",
    "        return 0\n",
    "    else:\n",
    "        lheight = height(node.left)\n",
    "        rheight = height(node.right)\n",
    "            \n",
    "        if lheight > rheight:\n",
    "            return lheight+1\n",
    "        else:\n",
    "            return rheight+1"
   ]
  },
  {
   "cell_type": "code",
   "execution_count": 10,
   "id": "95d6e3e9",
   "metadata": {},
   "outputs": [
    {
     "name": "stdout",
     "output_type": "stream",
     "text": [
      "Level Order Traversal of this tree is -\n",
      "1234567"
     ]
    }
   ],
   "source": [
    "root = Node(1)\n",
    "root.left = Node(2)\n",
    "root.right = Node(3)\n",
    "root.left.left = Node(4)\n",
    "root.left.right = Node(5)\n",
    "root.right.left = Node(6)\n",
    "root.right.right = Node(7)\n",
    "\n",
    "print(\"Level Order Traversal of this tree is -\")\n",
    "printLevelOrder(root)\n"
   ]
  },
  {
   "cell_type": "markdown",
   "id": "dd59880a",
   "metadata": {},
   "source": [
    "# using queue"
   ]
  },
  {
   "cell_type": "code",
   "execution_count": 11,
   "id": "b7f5b6d9",
   "metadata": {},
   "outputs": [],
   "source": [
    "class Node:\n",
    "    def __init__(self, key):\n",
    "        self.data = key\n",
    "        self.left = None\n",
    "        self.right = None\n"
   ]
  },
  {
   "cell_type": "code",
   "execution_count": 13,
   "id": "55d6a7d4",
   "metadata": {},
   "outputs": [],
   "source": [
    "def printLevelOrder(root):\n",
    "    if root is None:\n",
    "        return \n",
    "    queue = []\n",
    "    \n",
    "    queue.append(root)\n",
    "    \n",
    "    while(len(queue) > 0):\n",
    "        print(queue[0].data)\n",
    "        node = queue.pop(0) #list pop(i) with 'i' -> index\n",
    "        if node.left is not None:\n",
    "            queue.append(node.left)\n",
    "        if node.right is not None:\n",
    "            queue.append(node.right)\n"
   ]
  },
  {
   "cell_type": "code",
   "execution_count": 16,
   "id": "96e1cee3",
   "metadata": {},
   "outputs": [
    {
     "name": "stdout",
     "output_type": "stream",
     "text": [
      "Level Order Traversal of Binary Tree is -\n",
      "1\n",
      "2\n",
      "3\n",
      "4\n",
      "5\n",
      "6\n",
      "7\n"
     ]
    }
   ],
   "source": [
    "root = Node(1)\n",
    "root.left = Node(2)\n",
    "root.right = Node(3)\n",
    "root.left.left = Node(4)\n",
    "root.left.right = Node(5)\n",
    "root.right.left = Node(6)\n",
    "root.right.right = Node(7)\n",
    "print('Level Order Traversal of Binary Tree is -')\n",
    "printLevelOrder(root)"
   ]
  },
  {
   "cell_type": "code",
   "execution_count": 17,
   "id": "878a02a7",
   "metadata": {},
   "outputs": [
    {
     "name": "stdout",
     "output_type": "stream",
     "text": [
      "Level Order Traversal of Binary Tree is -\n",
      "1\n",
      "2\n",
      "3\n",
      "4\n",
      "5\n",
      "6\n"
     ]
    }
   ],
   "source": [
    "root = Node(1)\n",
    "root.left = Node(2)\n",
    "root.right = Node(3)\n",
    "root.left.left = Node(4)\n",
    "root.left.right = Node(5)\n",
    "root.right.left = Node(6)\n",
    "print('Level Order Traversal of Binary Tree is -')\n",
    "printLevelOrder(root)"
   ]
  },
  {
   "cell_type": "raw",
   "id": "5a94da91",
   "metadata": {},
   "source": [
    "[10] & [16]\n",
    "\n",
    "      1\n",
    "    /   \\\n",
    "   2     3\n",
    " /  \\   / \\\n",
    " 4   5 6   7"
   ]
  },
  {
   "cell_type": "raw",
   "id": "c6d2a916",
   "metadata": {},
   "source": [
    "[17]\n",
    "\n",
    "      1\n",
    "    /   \\\n",
    "   2     3\n",
    " /  \\   / \n",
    " 4   5 6 "
   ]
  }
 ],
 "metadata": {
  "kernelspec": {
   "display_name": "Python 3 (ipykernel)",
   "language": "python",
   "name": "python3"
  },
  "language_info": {
   "codemirror_mode": {
    "name": "ipython",
    "version": 3
   },
   "file_extension": ".py",
   "mimetype": "text/x-python",
   "name": "python",
   "nbconvert_exporter": "python",
   "pygments_lexer": "ipython3",
   "version": "3.9.12"
  }
 },
 "nbformat": 4,
 "nbformat_minor": 5
}
