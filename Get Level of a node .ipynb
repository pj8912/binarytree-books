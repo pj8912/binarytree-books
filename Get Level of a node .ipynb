{
 "cells": [
  {
   "cell_type": "code",
   "execution_count": 1,
   "id": "a109448c",
   "metadata": {},
   "outputs": [],
   "source": [
    "class Node:\n",
    "    def __init__(self,data):\n",
    "        self.data = data\n",
    "        self.left = None\n",
    "        self.right = None"
   ]
  },
  {
   "cell_type": "code",
   "execution_count": 6,
   "id": "46a7d98b",
   "metadata": {},
   "outputs": [],
   "source": [
    "def getLevelHelper(node, data, level):\n",
    "    if node == None:\n",
    "        return 0\n",
    "    if node.data == data:\n",
    "        return level\n",
    "    downlevel = getLevelHelper(node.left, data, level+1)\n",
    "    \n",
    "    if downlevel !=0:\n",
    "        return downlevel\n",
    "    \n",
    "    downlevel = getLevelHelper(node.right, data, level+1)\n",
    "    \n",
    "    return downlevel\n",
    "\n",
    "\n",
    "def getLevel(node, data):\n",
    "    return getLevelHelper(node, data, 1)\n"
   ]
  },
  {
   "cell_type": "code",
   "execution_count": 7,
   "id": "add494d8",
   "metadata": {},
   "outputs": [
    {
     "name": "stdout",
     "output_type": "stream",
     "text": [
      "Level of  1 is 1\n",
      "Level of  2 is 2\n",
      "Level of  3 is 2\n",
      "Level of  4 is 3\n",
      "Level of  5 is 3\n"
     ]
    }
   ],
   "source": [
    "root = Node(1)\n",
    "root.left = Node(2)\n",
    "root.right = Node(3)\n",
    "root.left.left = Node(4)\n",
    "root.left.right = Node(5)\n",
    "for x in range(1, 6):\n",
    "    level = getLevel(root, x)\n",
    "    if level:\n",
    "        print(\"Level of \", x, \"is\", getLevel(root, x))\n",
    "    else:\n",
    "        print(x, \"is not present in tree\")"
   ]
  },
  {
   "cell_type": "code",
   "execution_count": null,
   "id": "f5b3fe1c",
   "metadata": {},
   "outputs": [],
   "source": []
  }
 ],
 "metadata": {
  "kernelspec": {
   "display_name": "Python 3 (ipykernel)",
   "language": "python",
   "name": "python3"
  },
  "language_info": {
   "codemirror_mode": {
    "name": "ipython",
    "version": 3
   },
   "file_extension": ".py",
   "mimetype": "text/x-python",
   "name": "python",
   "nbconvert_exporter": "python",
   "pygments_lexer": "ipython3",
   "version": "3.9.12"
  }
 },
 "nbformat": 4,
 "nbformat_minor": 5
}
