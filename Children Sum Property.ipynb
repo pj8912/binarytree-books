{
 "cells": [
  {
   "cell_type": "markdown",
   "id": "0b743852",
   "metadata": {},
   "source": [
    "# Check for Children Sum Property in a Binary Tree"
   ]
  },
  {
   "cell_type": "markdown",
   "id": "5c52b86a",
   "metadata": {},
   "source": [
    "#### Condition:  For every node, data value must be equal to sum of data values in left and right children. Consider data value as 0 for NULL children. Below tree is an example\n"
   ]
  },
  {
   "cell_type": "code",
   "execution_count": 1,
   "id": "5f0cf93f",
   "metadata": {},
   "outputs": [],
   "source": [
    "class Node:\n",
    "    def __init__(self, data):\n",
    "        self.value = data\n",
    "        self.left = None\n",
    "        self.right = None"
   ]
  },
  {
   "cell_type": "code",
   "execution_count": 7,
   "id": "db27c8e7",
   "metadata": {},
   "outputs": [],
   "source": [
    "def isSumProperty(node):\n",
    "    ldata = 0\n",
    "    rdata = 0\n",
    "    if node == None or node.left == None and node.right == None:\n",
    "        return 1\n",
    "    else:\n",
    "        if node.left != None:\n",
    "            ldata = node.left.value\n",
    "        if node.right != None:\n",
    "            rdata = node.right.value\n",
    "        \n",
    "        if node.value == ldata + rdata and isSumProperty(node.left) and isSumProperty(node.right):\n",
    "            return 1\n",
    "        else:\n",
    "            return 0    "
   ]
  },
  {
   "cell_type": "code",
   "execution_count": 8,
   "id": "ed05776a",
   "metadata": {},
   "outputs": [
    {
     "name": "stdout",
     "output_type": "stream",
     "text": [
      "The tree satisfies the conditions\n"
     ]
    }
   ],
   "source": [
    "root = Node(50)\n",
    "root.left = Node(40)\n",
    "root.left.left = Node(20)\n",
    "root.left.right = Node(20)\n",
    "root.right = Node(10)\n",
    "root.right.right = Node(10)\n",
    "if isSumProperty(root):\n",
    "    print(\"The tree satisfies the conditions\")\n",
    "else:\n",
    "    print(\"The tree does not satisfy the condition\")\n"
   ]
  },
  {
   "cell_type": "code",
   "execution_count": null,
   "id": "07b949ec",
   "metadata": {},
   "outputs": [],
   "source": []
  }
 ],
 "metadata": {
  "kernelspec": {
   "display_name": "Python 3 (ipykernel)",
   "language": "python",
   "name": "python3"
  },
  "language_info": {
   "codemirror_mode": {
    "name": "ipython",
    "version": 3
   },
   "file_extension": ".py",
   "mimetype": "text/x-python",
   "name": "python",
   "nbconvert_exporter": "python",
   "pygments_lexer": "ipython3",
   "version": "3.9.12"
  }
 },
 "nbformat": 4,
 "nbformat_minor": 5
}
